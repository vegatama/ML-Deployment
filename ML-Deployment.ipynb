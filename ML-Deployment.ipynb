{
 "cells": [
  {
   "cell_type": "markdown",
   "id": "26a46895",
   "metadata": {},
   "source": [
    "# Use Case\n",
    "#### Use Case Summary\n",
    "#### Objective Statement:\n",
    "* To find out how the highest and lowest scores obtained by students, as well as the longest and shortest hours of study done by students.\n",
    "* To know relation between number of study hours and marks of the student.\n",
    "* To predict student scores using machine learning linear regression.\n",
    "* To get MAPE, R-Squared, MAE, and RMSE of simplel linear model.\n",
    "* To deploy the model using MLflow.\n",
    "\n",
    "#### Challenges:\n",
    "* Small size of dataset\n",
    "\n",
    "#### Methodology / Analytic Technique:\n",
    "* Exploratory analysis (Graph Analysis)\n",
    "* Simple Linear Model\n",
    "* Model tracking using MLflow\n",
    "* Deployment\n",
    "\n",
    "#### Business Benefit:\n",
    "* Know how to increase student grades.\n",
    "\n",
    "#### Expected Outcome:\n",
    "* Find out how the highest and lowest scores obtained by students, as well as the longest and shortest hours of study done by students\n",
    "* Know the relation between number of study hours and marks of the student.\n",
    "* Predict student scores using machine learning linear regression.\n",
    "* Know the MAPE, R-Squared, MAE, and RMSE of the model.\n",
    "* The model is deployed using MLflow.\n",
    "\n",
    "\n",
    "\n",
    "# Business Understanding\n",
    "Scoring in education is the process of applying standardized measurements for varying degrees of achievement in one course.</br>\n",
    "This case requires data-driven answers to the following questions:\n",
    "* Which are the highest and lowest scores obtained by students, as well as the longest and shortest hours of study done by students?\n",
    "* How is relation between number of study hours and marks of the student?\n",
    "* How is the prediction of student scores using machine learning linear regression?\n",
    "* How much is the MAPE, R-Squared, MAE, and RMSE of the model?\n",
    "* How to deploy the model using mlflow?\n",
    "\n",
    "\n",
    "# Data Understanding\n",
    "* Data of the number of hours student studied and the marks they got.\n",
    "* The dataset has 2 columns and 25 rows.\n",
    "\n",
    "#### Data Source\n",
    "* Source Data: https://www.kaggle.com/code/turhancankargin/simple-linear-regression/data \n",
    "\n",
    "#### Data Dictionary \n",
    "* Hours \t: Number of study hours\n",
    "* Scores\t: Marks of the student\n",
    "\n",
    "\n",
    "# Data preparation\n",
    "Code Used :\n",
    "* Python Version :Python 3.8.8\n",
    "* Packages : Pandas, Numpy, Matplotlib, Seaborn, SKlearn, Warnings, MLflow, Logging, Urllib "
   ]
  },
  {
   "cell_type": "code",
   "execution_count": 1,
   "id": "2273f191",
   "metadata": {},
   "outputs": [],
   "source": [
    "# pip install mlflow"
   ]
  },
  {
   "cell_type": "code",
   "execution_count": 2,
   "id": "cd6559fa",
   "metadata": {
    "scrolled": false
   },
   "outputs": [],
   "source": [
    "# pip install mlflow[extras]"
   ]
  },
  {
   "cell_type": "markdown",
   "id": "55a20198",
   "metadata": {
    "id": "55a20198"
   },
   "source": [
    "We import packages used for this analysis."
   ]
  },
  {
   "cell_type": "code",
   "execution_count": 3,
   "id": "af4dcaeb",
   "metadata": {
    "id": "af4dcaeb"
   },
   "outputs": [],
   "source": [
    "import pandas as pd\n",
    "import numpy as np\n",
    "import matplotlib.pyplot as plt\n",
    "import seaborn as sns\n",
    "from sklearn.linear_model import LinearRegression\n",
    "from sklearn.model_selection import train_test_split\n",
    "from sklearn.preprocessing import StandardScaler\n",
    "from sklearn.preprocessing import MinMaxScaler\n",
    "from sklearn.metrics import mean_squared_error, mean_absolute_error, mean_absolute_percentage_error, r2_score\n",
    "\n",
    "import warnings\n",
    "warnings.filterwarnings('ignore')"
   ]
  },
  {
   "cell_type": "markdown",
   "id": "d855b48b",
   "metadata": {
    "id": "d855b48b"
   },
   "source": [
    "We load dataset used for this analysis as df."
   ]
  },
  {
   "cell_type": "code",
   "execution_count": 4,
   "id": "49e2c845",
   "metadata": {
    "id": "49e2c845"
   },
   "outputs": [],
   "source": [
    "df = pd.read_csv(\"score.csv\")"
   ]
  },
  {
   "cell_type": "markdown",
   "id": "e20e3b0e",
   "metadata": {
    "id": "e20e3b0e"
   },
   "source": [
    "## Data Profiling"
   ]
  },
  {
   "cell_type": "markdown",
   "id": "6a653478",
   "metadata": {
    "id": "6a653478"
   },
   "source": [
    "Get top rows of the data."
   ]
  },
  {
   "cell_type": "code",
   "execution_count": 5,
   "id": "70bbd7d9",
   "metadata": {
    "colab": {
     "base_uri": "https://localhost:8080/",
     "height": 206
    },
    "id": "70bbd7d9",
    "outputId": "5bf624c5-46c1-4a12-cc12-e471efcedb5b"
   },
   "outputs": [
    {
     "data": {
      "text/html": [
       "<div>\n",
       "<style scoped>\n",
       "    .dataframe tbody tr th:only-of-type {\n",
       "        vertical-align: middle;\n",
       "    }\n",
       "\n",
       "    .dataframe tbody tr th {\n",
       "        vertical-align: top;\n",
       "    }\n",
       "\n",
       "    .dataframe thead th {\n",
       "        text-align: right;\n",
       "    }\n",
       "</style>\n",
       "<table border=\"1\" class=\"dataframe\">\n",
       "  <thead>\n",
       "    <tr style=\"text-align: right;\">\n",
       "      <th></th>\n",
       "      <th>Hours</th>\n",
       "      <th>Scores</th>\n",
       "    </tr>\n",
       "  </thead>\n",
       "  <tbody>\n",
       "    <tr>\n",
       "      <th>0</th>\n",
       "      <td>2.5</td>\n",
       "      <td>21</td>\n",
       "    </tr>\n",
       "    <tr>\n",
       "      <th>1</th>\n",
       "      <td>5.1</td>\n",
       "      <td>47</td>\n",
       "    </tr>\n",
       "    <tr>\n",
       "      <th>2</th>\n",
       "      <td>3.2</td>\n",
       "      <td>27</td>\n",
       "    </tr>\n",
       "    <tr>\n",
       "      <th>3</th>\n",
       "      <td>8.5</td>\n",
       "      <td>75</td>\n",
       "    </tr>\n",
       "    <tr>\n",
       "      <th>4</th>\n",
       "      <td>3.5</td>\n",
       "      <td>30</td>\n",
       "    </tr>\n",
       "  </tbody>\n",
       "</table>\n",
       "</div>"
      ],
      "text/plain": [
       "   Hours  Scores\n",
       "0    2.5      21\n",
       "1    5.1      47\n",
       "2    3.2      27\n",
       "3    8.5      75\n",
       "4    3.5      30"
      ]
     },
     "execution_count": 5,
     "metadata": {},
     "output_type": "execute_result"
    }
   ],
   "source": [
    "df.head()"
   ]
  },
  {
   "cell_type": "markdown",
   "id": "1daad055",
   "metadata": {
    "id": "1daad055"
   },
   "source": [
    "Get information of the data. There are 25 rows. Column **Hours** has float64 data type and column **Scores** has int64 data type."
   ]
  },
  {
   "cell_type": "code",
   "execution_count": 6,
   "id": "00d4c3a0",
   "metadata": {
    "colab": {
     "base_uri": "https://localhost:8080/"
    },
    "id": "00d4c3a0",
    "outputId": "71a9bb89-e770-48a6-aa37-32d0e872ebdd"
   },
   "outputs": [
    {
     "name": "stdout",
     "output_type": "stream",
     "text": [
      "<class 'pandas.core.frame.DataFrame'>\n",
      "RangeIndex: 25 entries, 0 to 24\n",
      "Data columns (total 2 columns):\n",
      " #   Column  Non-Null Count  Dtype  \n",
      "---  ------  --------------  -----  \n",
      " 0   Hours   25 non-null     float64\n",
      " 1   Scores  25 non-null     int64  \n",
      "dtypes: float64(1), int64(1)\n",
      "memory usage: 528.0 bytes\n"
     ]
    }
   ],
   "source": [
    "df.info()"
   ]
  },
  {
   "cell_type": "markdown",
   "id": "ec3eb48a",
   "metadata": {
    "id": "ec3eb48a"
   },
   "source": [
    "We get information of missing values, there are none."
   ]
  },
  {
   "cell_type": "code",
   "execution_count": 7,
   "id": "0f69905e",
   "metadata": {
    "colab": {
     "base_uri": "https://localhost:8080/"
    },
    "id": "0f69905e",
    "outputId": "3a51d383-5486-41be-dbf1-257b5ddbfd82"
   },
   "outputs": [
    {
     "data": {
      "text/plain": [
       "Hours     0\n",
       "Scores    0\n",
       "dtype: int64"
      ]
     },
     "execution_count": 7,
     "metadata": {},
     "output_type": "execute_result"
    }
   ],
   "source": [
    "df.isnull().sum()"
   ]
  },
  {
   "cell_type": "markdown",
   "id": "ef6d0a7d",
   "metadata": {
    "id": "ef6d0a7d"
   },
   "source": [
    "We describe the dataset."
   ]
  },
  {
   "cell_type": "code",
   "execution_count": 8,
   "id": "7bcdaa9b",
   "metadata": {
    "colab": {
     "base_uri": "https://localhost:8080/",
     "height": 300
    },
    "id": "7bcdaa9b",
    "outputId": "f68daded-4ec4-4734-fb3f-487b03f7484c"
   },
   "outputs": [
    {
     "data": {
      "text/html": [
       "<div>\n",
       "<style scoped>\n",
       "    .dataframe tbody tr th:only-of-type {\n",
       "        vertical-align: middle;\n",
       "    }\n",
       "\n",
       "    .dataframe tbody tr th {\n",
       "        vertical-align: top;\n",
       "    }\n",
       "\n",
       "    .dataframe thead th {\n",
       "        text-align: right;\n",
       "    }\n",
       "</style>\n",
       "<table border=\"1\" class=\"dataframe\">\n",
       "  <thead>\n",
       "    <tr style=\"text-align: right;\">\n",
       "      <th></th>\n",
       "      <th>count</th>\n",
       "      <th>mean</th>\n",
       "      <th>std</th>\n",
       "      <th>min</th>\n",
       "      <th>25%</th>\n",
       "      <th>50%</th>\n",
       "      <th>75%</th>\n",
       "      <th>max</th>\n",
       "    </tr>\n",
       "  </thead>\n",
       "  <tbody>\n",
       "    <tr>\n",
       "      <th>Hours</th>\n",
       "      <td>25.0</td>\n",
       "      <td>5.012</td>\n",
       "      <td>2.525094</td>\n",
       "      <td>1.1</td>\n",
       "      <td>2.7</td>\n",
       "      <td>4.8</td>\n",
       "      <td>7.4</td>\n",
       "      <td>9.2</td>\n",
       "    </tr>\n",
       "    <tr>\n",
       "      <th>Scores</th>\n",
       "      <td>25.0</td>\n",
       "      <td>51.480</td>\n",
       "      <td>25.286887</td>\n",
       "      <td>17.0</td>\n",
       "      <td>30.0</td>\n",
       "      <td>47.0</td>\n",
       "      <td>75.0</td>\n",
       "      <td>95.0</td>\n",
       "    </tr>\n",
       "  </tbody>\n",
       "</table>\n",
       "</div>"
      ],
      "text/plain": [
       "        count    mean        std   min   25%   50%   75%   max\n",
       "Hours    25.0   5.012   2.525094   1.1   2.7   4.8   7.4   9.2\n",
       "Scores   25.0  51.480  25.286887  17.0  30.0  47.0  75.0  95.0"
      ]
     },
     "execution_count": 8,
     "metadata": {},
     "output_type": "execute_result"
    }
   ],
   "source": [
    "df.describe().T"
   ]
  },
  {
   "cell_type": "markdown",
   "id": "0399bcbe",
   "metadata": {
    "id": "0399bcbe"
   },
   "source": [
    "In this dataset, it can be described that there are 25 Hours data with an **average** of 5.01 The **minimum** Hours is 1.1 and the **maximum** is 9.2 also there are 25 Scores data with an **average** of 51.4 The **minimum** Scores is 17 and the **maximum** is 95."
   ]
  },
  {
   "cell_type": "markdown",
   "id": "5202b14f",
   "metadata": {
    "id": "5202b14f"
   },
   "source": [
    "## Data cleansing"
   ]
  },
  {
   "cell_type": "markdown",
   "id": "dbf4b964",
   "metadata": {
    "id": "dbf4b964"
   },
   "source": [
    "The data is already clean, no missing value and mismatched data type, so we don't need to clean it."
   ]
  },
  {
   "cell_type": "markdown",
   "id": "7f4c5235",
   "metadata": {
    "id": "7f4c5235"
   },
   "source": [
    "## Exploratory Data Analysis"
   ]
  },
  {
   "cell_type": "markdown",
   "id": "c34b85f5",
   "metadata": {
    "id": "c34b85f5"
   },
   "source": [
    "We show the scatter plot to find out the distribution of the data."
   ]
  },
  {
   "cell_type": "code",
   "execution_count": 9,
   "id": "63a43859",
   "metadata": {
    "colab": {
     "base_uri": "https://localhost:8080/",
     "height": 299
    },
    "id": "63a43859",
    "outputId": "9b2f6cb9-ce08-4b4d-c243-9091a8590bea"
   },
   "outputs": [
    {
     "data": {
      "image/png": "[encoded data removed]",
      "text/plain": [
       "<Figure size 1600x500 with 1 Axes>"
      ]
     },
     "metadata": {},
     "output_type": "display_data"
    }
   ],
   "source": [
    "plt.figure(figsize=(16,5))\n",
    "plt.title('Hours and Scores')\n",
    "plt.xlabel('Hours')\n",
    "plt.ylabel('Scores')\n",
    "plt.scatter(df.Hours, df.Scores)\n",
    "\n",
    "plt.show()"
   ]
  },
  {
   "cell_type": "markdown",
   "id": "58f9a64e",
   "metadata": {
    "id": "58f9a64e"
   },
   "source": [
    "Based on the graph above, it can be seen that study hours and student grades are **directly proportional**, which means that the longer a student studies, the higher the grade he will get. This proves that there is a **strong influence** of study hours on student scores.\n",
    "\n"
   ]
  },
  {
   "cell_type": "markdown",
   "id": "128167d7",
   "metadata": {
    "id": "128167d7"
   },
   "source": [
    "## Feature Engineering"
   ]
  },
  {
   "cell_type": "markdown",
   "id": "610b2f77",
   "metadata": {},
   "source": [
    "We using the plot to see the distribution of hours data."
   ]
  },
  {
   "cell_type": "code",
   "execution_count": 10,
   "id": "b462df72",
   "metadata": {
    "colab": {
     "base_uri": "https://localhost:8080/",
     "height": 297
    },
    "id": "b462df72",
    "outputId": "2d47b238-43c9-4f61-b2a4-a8f2f2a9603b"
   },
   "outputs": [
    {
     "data": {
      "text/plain": [
       "<AxesSubplot:xlabel='Hours', ylabel='Density'>"
      ]
     },
     "execution_count": 10,
     "metadata": {},
     "output_type": "execute_result"
    },
    {
     "data": {
      "image/png": "[encoded data removed]",
      "text/plain": [
       "<Figure size 640x480 with 1 Axes>"
      ]
     },
     "metadata": {},
     "output_type": "display_data"
    }
   ],
   "source": [
    "sns.distplot(df['Hours']) "
   ]
  },
  {
   "cell_type": "markdown",
   "id": "f95d6629",
   "metadata": {},
   "source": [
    "we check mean, median, and mode of the data."
   ]
  },
  {
   "cell_type": "code",
   "execution_count": 11,
   "id": "8905c295",
   "metadata": {},
   "outputs": [
    {
     "name": "stdout",
     "output_type": "stream",
     "text": [
      "5.012\n",
      "4.8\n",
      "2.5\n"
     ]
    }
   ],
   "source": [
    "print(df['Hours'].mean())\n",
    "print(df['Hours'].median())\n",
    "print(df['Hours'].mode().values[0])"
   ]
  },
  {
   "cell_type": "markdown",
   "id": "164a8450",
   "metadata": {},
   "source": [
    "Because these columns have a nearly normal distribution, they do not need to be scaled."
   ]
  },
  {
   "cell_type": "markdown",
   "id": "0701e2d6",
   "metadata": {},
   "source": [
    "We using the plot to see the distribution of scores data."
   ]
  },
  {
   "cell_type": "code",
   "execution_count": 12,
   "id": "62275e5c",
   "metadata": {
    "colab": {
     "base_uri": "https://localhost:8080/",
     "height": 297
    },
    "id": "62275e5c",
    "outputId": "5aedbd7e-180a-485a-8430-cd492af33cf0"
   },
   "outputs": [
    {
     "data": {
      "text/plain": [
       "<AxesSubplot:xlabel='Scores', ylabel='Density'>"
      ]
     },
     "execution_count": 12,
     "metadata": {},
     "output_type": "execute_result"
    },
    {
     "data": {
      "image/png": "[encoded data removed]",
      "text/plain": [
       "<Figure size 640x480 with 1 Axes>"
      ]
     },
     "metadata": {},
     "output_type": "display_data"
    }
   ],
   "source": [
    "sns.distplot(df['Scores']) "
   ]
  },
  {
   "cell_type": "markdown",
   "id": "23d9794f",
   "metadata": {},
   "source": [
    "we check mean, median, and mode of the data."
   ]
  },
  {
   "cell_type": "code",
   "execution_count": 13,
   "id": "11f546f9",
   "metadata": {},
   "outputs": [
    {
     "name": "stdout",
     "output_type": "stream",
     "text": [
      "51.48\n",
      "47.0\n",
      "30\n"
     ]
    }
   ],
   "source": [
    "print(df['Scores'].mean())\n",
    "print(df['Scores'].median())\n",
    "print(df['Scores'].mode().values[0])"
   ]
  },
  {
   "cell_type": "markdown",
   "id": "8e2d2f24",
   "metadata": {
    "id": "8e2d2f24"
   },
   "source": [
    "Because these columns have a nearly normal distribution, they do not need to be scaled."
   ]
  },
  {
   "cell_type": "markdown",
   "id": "942f3d8a",
   "metadata": {
    "id": "942f3d8a"
   },
   "source": [
    "## Preprosesing Modeling"
   ]
  },
  {
   "cell_type": "markdown",
   "id": "310acd77",
   "metadata": {
    "id": "310acd77"
   },
   "source": [
    "We define X and y."
   ]
  },
  {
   "cell_type": "code",
   "execution_count": 14,
   "id": "e437f3c5",
   "metadata": {
    "id": "e437f3c5"
   },
   "outputs": [],
   "source": [
    "X = df.drop([\"Scores\"], axis = 1)\n",
    "y = df[\"Scores\"]"
   ]
  },
  {
   "cell_type": "markdown",
   "id": "930e6261",
   "metadata": {
    "id": "930e6261"
   },
   "source": [
    "and then, we split the train and test data with a test size of 1/3 of the total data."
   ]
  },
  {
   "cell_type": "code",
   "execution_count": 15,
   "id": "913d648b",
   "metadata": {
    "id": "913d648b"
   },
   "outputs": [],
   "source": [
    "X_train, X_test, y_train, y_test = train_test_split(X,y, train_size=1/3, random_state=42)"
   ]
  },
  {
   "cell_type": "markdown",
   "id": "caff661d",
   "metadata": {
    "id": "caff661d"
   },
   "source": [
    "Get shape of the train and test data to know how many rows and columns we use."
   ]
  },
  {
   "cell_type": "code",
   "execution_count": 16,
   "id": "a55c66d1",
   "metadata": {
    "colab": {
     "base_uri": "https://localhost:8080/"
    },
    "id": "a55c66d1",
    "outputId": "737a0c08-495d-4420-b13f-a7fa86610ece"
   },
   "outputs": [
    {
     "name": "stdout",
     "output_type": "stream",
     "text": [
      "X test Shape: (17, 1)\n",
      "y test Shape: (17,)\n",
      "X train Shape: (8, 1)\n",
      "y train Shape: (8,)\n"
     ]
    }
   ],
   "source": [
    "print(\"X test Shape:\",X_test.shape)\n",
    "print(\"y test Shape:\",y_test.shape)\n",
    "print(\"X train Shape:\",X_train.shape)\n",
    "print(\"y train Shape:\",y_train.shape)"
   ]
  },
  {
   "cell_type": "markdown",
   "id": "a8161eb6",
   "metadata": {
    "id": "a8161eb6"
   },
   "source": [
    "## Modeling"
   ]
  },
  {
   "cell_type": "markdown",
   "id": "dc424200",
   "metadata": {
    "id": "dc424200"
   },
   "source": [
    "We use Linear Regression as model."
   ]
  },
  {
   "cell_type": "code",
   "execution_count": 17,
   "id": "12478ea4",
   "metadata": {
    "id": "12478ea4"
   },
   "outputs": [],
   "source": [
    "regressor = LinearRegression()"
   ]
  },
  {
   "cell_type": "markdown",
   "id": "c1c5344b",
   "metadata": {
    "id": "c1c5344b"
   },
   "source": [
    "And then we fit X train and y train into the model."
   ]
  },
  {
   "cell_type": "code",
   "execution_count": 18,
   "id": "1f087829",
   "metadata": {
    "colab": {
     "base_uri": "https://localhost:8080/"
    },
    "id": "1f087829",
    "outputId": "d705a5c6-b886-4149-cf39-ba4c1980f39c"
   },
   "outputs": [
    {
     "data": {
      "text/html": [
       "<style>#sk-container-id-1 {color: black;background-color: white;}#sk-container-id-1 pre{padding: 0;}#sk-container-id-1 div.sk-toggleable {background-color: white;}#sk-container-id-1 label.sk-toggleable__label {cursor: pointer;display: block;width: 100%;margin-bottom: 0;padding: 0.3em;box-sizing: border-box;text-align: center;}#sk-container-id-1 label.sk-toggleable__label-arrow:before {content: \"▸\";float: left;margin-right: 0.25em;color: #696969;}#sk-container-id-1 label.sk-toggleable__label-arrow:hover:before {color: black;}#sk-container-id-1 div.sk-estimator:hover label.sk-toggleable__label-arrow:before {color: black;}#sk-container-id-1 div.sk-toggleable__content {max-height: 0;max-width: 0;overflow: hidden;text-align: left;background-color: #f0f8ff;}#sk-container-id-1 div.sk-toggleable__content pre {margin: 0.2em;color: black;border-radius: 0.25em;background-color: #f0f8ff;}#sk-container-id-1 input.sk-toggleable__control:checked~div.sk-toggleable__content {max-height: 200px;max-width: 100%;overflow: auto;}#sk-container-id-1 input.sk-toggleable__control:checked~label.sk-toggleable__label-arrow:before {content: \"▾\";}#sk-container-id-1 div.sk-estimator input.sk-toggleable__control:checked~label.sk-toggleable__label {background-color: #d4ebff;}#sk-container-id-1 div.sk-label input.sk-toggleable__control:checked~label.sk-toggleable__label {background-color: #d4ebff;}#sk-container-id-1 input.sk-hidden--visually {border: 0;clip: rect(1px 1px 1px 1px);clip: rect(1px, 1px, 1px, 1px);height: 1px;margin: -1px;overflow: hidden;padding: 0;position: absolute;width: 1px;}#sk-container-id-1 div.sk-estimator {font-family: monospace;background-color: #f0f8ff;border: 1px dotted black;border-radius: 0.25em;box-sizing: border-box;margin-bottom: 0.5em;}#sk-container-id-1 div.sk-estimator:hover {background-color: #d4ebff;}#sk-container-id-1 div.sk-parallel-item::after {content: \"\";width: 100%;border-bottom: 1px solid gray;flex-grow: 1;}#sk-container-id-1 div.sk-label:hover label.sk-toggleable__label {background-color: #d4ebff;}#sk-container-id-1 div.sk-serial::before {content: \"\";position: absolute;border-left: 1px solid gray;box-sizing: border-box;top: 0;bottom: 0;left: 50%;z-index: 0;}#sk-container-id-1 div.sk-serial {display: flex;flex-direction: column;align-items: center;background-color: white;padding-right: 0.2em;padding-left: 0.2em;position: relative;}#sk-container-id-1 div.sk-item {position: relative;z-index: 1;}#sk-container-id-1 div.sk-parallel {display: flex;align-items: stretch;justify-content: center;background-color: white;position: relative;}#sk-container-id-1 div.sk-item::before, #sk-container-id-1 div.sk-parallel-item::before {content: \"\";position: absolute;border-left: 1px solid gray;box-sizing: border-box;top: 0;bottom: 0;left: 50%;z-index: -1;}#sk-container-id-1 div.sk-parallel-item {display: flex;flex-direction: column;z-index: 1;position: relative;background-color: white;}#sk-container-id-1 div.sk-parallel-item:first-child::after {align-self: flex-end;width: 50%;}#sk-container-id-1 div.sk-parallel-item:last-child::after {align-self: flex-start;width: 50%;}#sk-container-id-1 div.sk-parallel-item:only-child::after {width: 0;}#sk-container-id-1 div.sk-dashed-wrapped {border: 1px dashed gray;margin: 0 0.4em 0.5em 0.4em;box-sizing: border-box;padding-bottom: 0.4em;background-color: white;}#sk-container-id-1 div.sk-label label {font-family: monospace;font-weight: bold;display: inline-block;line-height: 1.2em;}#sk-container-id-1 div.sk-label-container {text-align: center;}#sk-container-id-1 div.sk-container {/* jupyter's `normalize.less` sets `[hidden] { display: none; }` but bootstrap.min.css set `[hidden] { display: none !important; }` so we also need the `!important` here to be able to override the default hidden behavior on the sphinx rendered scikit-learn.org. See: https://github.com/scikit-learn/scikit-learn/issues/21755 */display: inline-block !important;position: relative;}#sk-container-id-1 div.sk-text-repr-fallback {display: none;}</style><div id=\"sk-container-id-1\" class=\"sk-top-container\"><div class=\"sk-text-repr-fallback\"><pre>LinearRegression()</pre><b>In a Jupyter environment, please rerun this cell to show the HTML representation or trust the notebook. <br />On GitHub, the HTML representation is unable to render, please try loading this page with nbviewer.org.</b></div><div class=\"sk-container\" hidden><div class=\"sk-item\"><div class=\"sk-estimator sk-toggleable\"><input class=\"sk-toggleable__control sk-hidden--visually\" id=\"sk-estimator-id-1\" type=\"checkbox\" checked><label for=\"sk-estimator-id-1\" class=\"sk-toggleable__label sk-toggleable__label-arrow\">LinearRegression</label><div class=\"sk-toggleable__content\"><pre>LinearRegression()</pre></div></div></div></div></div>"
      ],
      "text/plain": [
       "LinearRegression()"
      ]
     },
     "execution_count": 18,
     "metadata": {},
     "output_type": "execute_result"
    }
   ],
   "source": [
    "regressor.fit(X_train,y_train)"
   ]
  },
  {
   "cell_type": "markdown",
   "id": "a57471fd",
   "metadata": {
    "id": "a57471fd"
   },
   "source": [
    "We predict X test and assign in to y pred variable."
   ]
  },
  {
   "cell_type": "code",
   "execution_count": 19,
   "id": "3aa57e0b",
   "metadata": {
    "id": "3aa57e0b"
   },
   "outputs": [],
   "source": [
    "y_pred = regressor.predict(X_test)"
   ]
  },
  {
   "cell_type": "markdown",
   "id": "ded86276",
   "metadata": {
    "id": "ded86276"
   },
   "source": [
    "We show the comparison between actual data and prediction data."
   ]
  },
  {
   "cell_type": "code",
   "execution_count": 20,
   "id": "eb174237",
   "metadata": {
    "colab": {
     "base_uri": "https://localhost:8080/",
     "height": 351
    },
    "id": "eb174237",
    "outputId": "ed9e879d-42f6-49fb-eaad-957d5efb25b9",
    "scrolled": false
   },
   "outputs": [
    {
     "data": {
      "image/png": "[encoded data removed]",
      "text/plain": [
       "<Figure size 2000x800 with 1 Axes>"
      ]
     },
     "metadata": {},
     "output_type": "display_data"
    }
   ],
   "source": [
    "result = pd.DataFrame({\"Actual\":y_test,\"Predict\":y_pred})\n",
    "result.plot(kind=\"bar\",figsize=(20,8))\n",
    "plt.show()"
   ]
  },
  {
   "cell_type": "markdown",
   "id": "4de2bc86",
   "metadata": {},
   "source": [
    "We show another scatter plot to see if the predicted results are close to the actual data."
   ]
  },
  {
   "cell_type": "code",
   "execution_count": 21,
   "id": "857318a3",
   "metadata": {
    "colab": {
     "base_uri": "https://localhost:8080/",
     "height": 265
    },
    "id": "857318a3",
    "outputId": "f585889e-b58a-4230-a439-a30a1e9baf6e"
   },
   "outputs": [
    {
     "data": {
      "image/png": "[encoded data removed]",
      "text/plain": [
       "<Figure size 640x480 with 1 Axes>"
      ]
     },
     "metadata": {},
     "output_type": "display_data"
    }
   ],
   "source": [
    "plt.scatter(X_train, y_train, color='red')\n",
    "plt.plot(X_test.values, y_pred, color = 'blue')\n",
    "plt.show()"
   ]
  },
  {
   "cell_type": "markdown",
   "id": "50526db3",
   "metadata": {},
   "source": [
    "Based on the graph above, the red dot has a position close to the line, therefore the prediction results have a value that is close to the actual value."
   ]
  },
  {
   "cell_type": "markdown",
   "id": "fb3f0181",
   "metadata": {
    "id": "fb3f0181"
   },
   "source": [
    "## Evaluate Modeling"
   ]
  },
  {
   "cell_type": "markdown",
   "id": "37vwg1DrrLZP",
   "metadata": {
    "id": "37vwg1DrrLZP"
   },
   "source": [
    "**Root Mean Squared Error (RMSE)** is the square root of the mean squared error between the predicted and actual values."
   ]
  },
  {
   "cell_type": "code",
   "execution_count": 22,
   "id": "f66f533d",
   "metadata": {
    "colab": {
     "base_uri": "https://localhost:8080/"
    },
    "id": "f66f533d",
    "outputId": "7477ce73-2269-4bbe-9801-d7f44bc38f5d"
   },
   "outputs": [
    {
     "data": {
      "text/plain": [
       "7.291891275897982"
      ]
     },
     "execution_count": 22,
     "metadata": {},
     "output_type": "execute_result"
    }
   ],
   "source": [
    "rmse = np.sqrt(mean_squared_error(y_test, y_pred))\n",
    "\n",
    "rmse"
   ]
  },
  {
   "cell_type": "code",
   "execution_count": 23,
   "id": "QaFkwIwF4INS",
   "metadata": {
    "id": "QaFkwIwF4INS"
   },
   "outputs": [],
   "source": [
    "rmseN = rmse/(y.max()-y.min())"
   ]
  },
  {
   "cell_type": "code",
   "execution_count": 24,
   "id": "W0owISGk4YYx",
   "metadata": {
    "colab": {
     "base_uri": "https://localhost:8080/"
    },
    "id": "W0owISGk4YYx",
    "outputId": "2216f1aa-dc9a-463a-c227-f0eed6d20002"
   },
   "outputs": [
    {
     "data": {
      "text/plain": [
       "0.09348578558843568"
      ]
     },
     "execution_count": 24,
     "metadata": {},
     "output_type": "execute_result"
    }
   ],
   "source": [
    "rmseN"
   ]
  },
  {
   "cell_type": "markdown",
   "id": "fj2bDKmdnjgy",
   "metadata": {
    "id": "fj2bDKmdnjgy"
   },
   "source": [
    "With an **RMSE** of 7.29/0.09 we have a pretty decent model. because in order for us to know how good our model is, if we look at the RMSE value, we will normalize the RMSE with the distance we want to predict, and it can be seen if the result is closer to 0 than to 1, which means that a value closer to 0 represents a better fitting model."
   ]
  },
  {
   "cell_type": "markdown",
   "id": "55457bd7",
   "metadata": {
    "id": "55457bd7"
   },
   "source": [
    "**Mean Absolute Error** calculates the average difference between the calculated values and actual values."
   ]
  },
  {
   "cell_type": "code",
   "execution_count": 25,
   "id": "ed6c4ba6",
   "metadata": {
    "colab": {
     "base_uri": "https://localhost:8080/"
    },
    "id": "ed6c4ba6",
    "outputId": "29f1150d-130e-40de-aa6d-36d0b2989175"
   },
   "outputs": [
    {
     "data": {
      "text/plain": [
       "6.27880630751843"
      ]
     },
     "execution_count": 25,
     "metadata": {},
     "output_type": "execute_result"
    }
   ],
   "source": [
    "mae = mean_absolute_error(y_test, y_pred)\n",
    "\n",
    "mae"
   ]
  },
  {
   "cell_type": "markdown",
   "id": "9UNskqDrneXN",
   "metadata": {
    "id": "9UNskqDrneXN"
   },
   "source": [
    "The **MAE** value obtained is 6.27, meaning that the average absolute difference between the actual value and the predicted value is 6.27 and is still relatively good."
   ]
  },
  {
   "cell_type": "markdown",
   "id": "xqXP-7TQrUvi",
   "metadata": {
    "id": "xqXP-7TQrUvi"
   },
   "source": [
    "**MAPE** is a percentage error metric where the value corresponds to the average amount of error that predictions have. "
   ]
  },
  {
   "cell_type": "code",
   "execution_count": 26,
   "id": "bb204fed",
   "metadata": {
    "colab": {
     "base_uri": "https://localhost:8080/"
    },
    "id": "bb204fed",
    "outputId": "83297014-9622-4b7f-fdec-75ceacbfdf8a"
   },
   "outputs": [
    {
     "data": {
      "text/plain": [
       "0.1825039540911246"
      ]
     },
     "execution_count": 26,
     "metadata": {},
     "output_type": "execute_result"
    }
   ],
   "source": [
    "mape = mean_absolute_percentage_error(y_test, y_pred)\n",
    "\n",
    "mape"
   ]
  },
  {
   "cell_type": "markdown",
   "id": "L_TWBD_EnE3X",
   "metadata": {
    "id": "L_TWBD_EnE3X"
   },
   "source": [
    "**MAPE value of 18% means it's low, but acceptable accuracy**. A MAPE less than 5% is considered as an indication that the forecast is acceptably accurate. A MAPE greater than 10% but less than 25% indicates low, but acceptable accuracy.\n",
    "\n",
    "Coefficient of determination also called as **R2** score is used to evaluate the performance of a linear regression model. "
   ]
  },
  {
   "cell_type": "code",
   "execution_count": 27,
   "id": "2199e557",
   "metadata": {
    "colab": {
     "base_uri": "https://localhost:8080/"
    },
    "id": "2199e557",
    "outputId": "6280c073-a682-4007-af5a-c1e5c27a9eab"
   },
   "outputs": [
    {
     "data": {
      "text/plain": [
       "0.9008323972503134"
      ]
     },
     "execution_count": 27,
     "metadata": {},
     "output_type": "execute_result"
    }
   ],
   "source": [
    "r2 = r2_score(y_test, y_pred)\n",
    "\n",
    "r2"
   ]
  },
  {
   "cell_type": "markdown",
   "id": "seeaAFMWnWzw",
   "metadata": {
    "id": "seeaAFMWnWzw"
   },
   "source": [
    "**0.90 value of r2 score means a strong correlation**. The higher the R-Squared value the better. An R-squared value of above 0.75 (which is our r-squared score is 0.90) would be considered a strong correlation."
   ]
  },
  {
   "cell_type": "markdown",
   "id": "547386e1",
   "metadata": {},
   "source": [
    "# Deployment"
   ]
  },
  {
   "cell_type": "markdown",
   "id": "95168fe6",
   "metadata": {},
   "source": [
    "we use mlflow to deploy the model to the localhost."
   ]
  },
  {
   "cell_type": "code",
   "execution_count": 28,
   "id": "e3fd2c85",
   "metadata": {},
   "outputs": [
    {
     "name": "stdout",
     "output_type": "stream",
     "text": [
      "  RMSE: 7.291891275897982\n",
      "  MAE: 6.27880630751843\n",
      "  MAPE: 0.1825039540911246\n",
      "  R2: 0.9008323972503134\n"
     ]
    }
   ],
   "source": [
    "# import lib\n",
    "import pandas as pd\n",
    "import numpy as np\n",
    "from sklearn.linear_model import LinearRegression\n",
    "from sklearn.model_selection import train_test_split\n",
    "from sklearn.metrics import mean_squared_error, mean_absolute_error, mean_absolute_percentage_error, r2_score\n",
    "\n",
    "import warnings\n",
    "warnings.filterwarnings('ignore')\n",
    "\n",
    "from urllib.parse import urlparse\n",
    "\n",
    "import mlflow\n",
    "import mlflow.sklearn\n",
    "\n",
    "import logging\n",
    "\n",
    "logging.basicConfig(level=logging.WARN)\n",
    "logger = logging.getLogger(__name__)\n",
    "\n",
    "if __name__ == \"__main__\":\n",
    "    warnings.filterwarnings(\"ignore\")\n",
    "    np.random.seed(40)\n",
    "\n",
    "# load dataset\n",
    "df = pd.read_csv('score.csv')\n",
    "\n",
    "# preprosessing modeling\n",
    "\n",
    "X = df.drop([\"Scores\"], axis = 1)\n",
    "y = df[\"Scores\"]\n",
    "\n",
    "# split \n",
    "\n",
    "X_train, X_test, y_train, y_test = train_test_split(X,y, train_size=1/3, random_state=42)\n",
    "\n",
    "# eval metrics\n",
    "\n",
    "def eval_metrics(actual, pred):\n",
    "    rmse = np.sqrt(mean_squared_error(actual, pred))\n",
    "    mae = mean_absolute_error(actual, pred)\n",
    "    mape = mean_absolute_percentage_error(actual, pred)\n",
    "    r2 = r2_score(actual, pred)\n",
    "    return rmse, mae, mape, r2\n",
    "\n",
    "# modeling\n",
    "\n",
    "with mlflow.start_run():\n",
    "        lr = LinearRegression()\n",
    "        lr.fit(X_train, y_train)\n",
    "\n",
    "        y_pred = lr.predict(X_test)\n",
    "\n",
    "        (rmse, mae, mape, r2) = eval_metrics(y_test, y_pred)\n",
    "\n",
    "        print(\"  RMSE: %s\" % rmse)\n",
    "        print(\"  MAE: %s\" % mae)\n",
    "        print(\"  MAPE: %s\" % mape)\n",
    "        print(\"  R2: %s\" % r2)\n",
    "\n",
    "\n",
    "        mlflow.log_metric(\"rmse\", rmse)\n",
    "        mlflow.log_metric(\"mae\", mae)\n",
    "        mlflow.log_metric(\"mape\", mape)\n",
    "        mlflow.log_metric(\"r2\", r2)\n",
    "    \n",
    "\n",
    "        tracking_url_type_store = urlparse(mlflow.get_tracking_uri()).scheme\n",
    "\n",
    "        if tracking_url_type_store != \"file\":\n",
    "            mlflow.sklearn.log_model(lr, \"model\", registered_model_name=\"Linear Regression\")\n",
    "        else:\n",
    "            mlflow.sklearn.log_model(lr, \"model\")"
   ]
  },
  {
   "cell_type": "markdown",
   "id": "61ab835e",
   "metadata": {
    "id": "61ab835e"
   },
   "source": [
    "# Result\n",
    "\n"
   ]
  },
  {
   "cell_type": "markdown",
   "id": "54cf67b8",
   "metadata": {
    "id": "54cf67b8"
   },
   "source": [
    "Based on the graph above, study hours and student scores are directly proportional, which means that the longer a student studies, the higher the score he will get. This proves that there is a strong relationship between study hours and student scores.\n",
    "\n",
    "In this dataset, it can be described that there are 25 study hours data with an average of 5.01. The minimum study hours is 1.1 and the maximum is 9.2, also there are 25 student scored data with an average of 51.4. The minimum student score is 17 and the maximum is 95.\n",
    "\n",
    "**RMSE value obtained is 7.29** with the **normalized RMSE value being 0.09** and it can be seen that the result is closer to 0 than 1, which means that a value closer to 0 indicates a **more suitable model**. The **MAE** value is 6.27, which means that the average predicted value will decrease by 6.27 and if you look at the range of data we want to predict, it is between 14-97 which has changed slightly. The **MAPE value obtained is 18%**, which means that the **accuracy is acceptable even though it is low** because MAPE is greater than 10% but less than 25% indicates low but acceptable accuracy. The **R2 value obtained is 0.**9 which means it has a **strong correlation** because in general, the higher the R2, the better the model fits your data."
   ]
  },
  {
   "cell_type": "markdown",
   "id": "2748220b",
   "metadata": {
    "id": "2748220b"
   },
   "source": [
    "# Recommendation\n",
    "\n"
   ]
  },
  {
   "cell_type": "markdown",
   "id": "5818d299",
   "metadata": {
    "id": "5818d299"
   },
   "source": [
    "**Students with low scores are advised to study longer** than usual so that their grades are higher considering there is a strong relationship between study hours and student scores. Meanwhile, **students with high scores are also advised to study harder** in order to get higher scores or maintain their scores.\n",
    "\n",
    "Since the average student studying for 5 hours gets a score of 51, students who only study for 5 hours are advised to increase their study time in order to get a good grade. Students who study for 7.4 hours are only able to get a score of 75 which means students also have to study for more than 7.4 hours so that their grades are better."
   ]
  },
  {
   "cell_type": "markdown",
   "id": "6c113ecd",
   "metadata": {},
   "source": [
    "# Deployment Result"
   ]
  },
  {
   "cell_type": "markdown",
   "id": "a5730f08",
   "metadata": {},
   "source": [
    "**MLflow** is an open source framework that makes it easy to track the machine learning model that was trained and the parameters, data, and metrics associated with that model.\n",
    "\n",
    "**MLflow model tracking** can train different machine learning models and then make predictions with them in turn using a standard model prediction interface. In addition, MLflow model tracking can also register models in the MLflow model registry and track which models are used in production so that this information is easily accessible to everyone who works with those models.\n",
    "\n",
    "Based on the MLflow model tracking, the **RMSE value obtained is 7.29** with the **normalized RMSE value being 0.09** and it can be seen that the result is closer to 0 than 1, which means that a value closer to 0 indicates a **more suitable model**. The **MAE value obtained is 6.27**, meaning that the average absolute difference between the actual value and the predicted value is 6.27 and is still **relatively good**. The **MAPE value obtained is 18%**, which means that the **accuracy is acceptable even though it is low** because MAPE is greater than 10% but less than 25% indicates low but acceptable accuracy. The **R2 value obtained is 0.**9 which means it has a **strong correlation** because in general, the higher the R2, the better the model fits your data."
   ]
  }
 ],
 "metadata": {
  "colab": {
   "provenance": []
  },
  "kernelspec": {
   "display_name": "Python 3 (ipykernel)",
   "language": "python",
   "name": "python3"
  },
  "language_info": {
   "codemirror_mode": {
    "name": "ipython",
    "version": 3
   },
   "file_extension": ".py",
   "mimetype": "text/x-python",
   "name": "python",
   "nbconvert_exporter": "python",
   "pygments_lexer": "ipython3",
   "version": "3.9.13"
  }
 },
 "nbformat": 4,
 "nbformat_minor": 5
}
